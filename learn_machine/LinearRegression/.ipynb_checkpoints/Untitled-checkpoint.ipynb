{
 "cells": [
  {
   "cell_type": "code",
   "execution_count": 1,
   "id": "5f60b99d-34c0-4bb4-bd09-0b438730e9cb",
   "metadata": {},
   "outputs": [],
   "source": [
    "import numpy as np\n",
    "import pandas as pd\n",
    "import matplotlib.pyplot as plt\n",
    "import seaborn as sns"
   ]
  },
  {
   "cell_type": "code",
   "execution_count": 2,
   "id": "f24a6659-3c3c-4c24-b202-889ad0f981e9",
   "metadata": {},
   "outputs": [],
   "source": [
    "#from sklearn.linear_model import LinearRegression\n",
    "#from sklearn.datasets import load_diabetes"
   ]
  },
  {
   "cell_type": "code",
   "execution_count": 3,
   "id": "6ff03ea6-5e45-45b7-b4b2-69417290679d",
   "metadata": {},
   "outputs": [],
   "source": [
    "sns.set()"
   ]
  },
  {
   "cell_type": "code",
   "execution_count": 4,
   "id": "5f759bc7-2953-468d-a3f4-5e985b5549fc",
   "metadata": {},
   "outputs": [],
   "source": [
    "names=['RM','LSTAT','PTRATIO','MEDV']"
   ]
  },
  {
   "cell_type": "code",
   "execution_count": 5,
   "id": "0c107c5b-128d-4be8-bbf4-ad4ab0bb400a",
   "metadata": {},
   "outputs": [
    {
     "data": {
      "text/html": [
       "<div>\n",
       "<style scoped>\n",
       "    .dataframe tbody tr th:only-of-type {\n",
       "        vertical-align: middle;\n",
       "    }\n",
       "\n",
       "    .dataframe tbody tr th {\n",
       "        vertical-align: top;\n",
       "    }\n",
       "\n",
       "    .dataframe thead th {\n",
       "        text-align: right;\n",
       "    }\n",
       "</style>\n",
       "<table border=\"1\" class=\"dataframe\">\n",
       "  <thead>\n",
       "    <tr style=\"text-align: right;\">\n",
       "      <th></th>\n",
       "      <th>RM</th>\n",
       "      <th>LSTAT</th>\n",
       "      <th>PTRATIO</th>\n",
       "      <th>MEDV</th>\n",
       "    </tr>\n",
       "  </thead>\n",
       "  <tbody>\n",
       "    <tr>\n",
       "      <th>0</th>\n",
       "      <td>RM</td>\n",
       "      <td>LSTAT</td>\n",
       "      <td>PTRATIO</td>\n",
       "      <td>MEDV</td>\n",
       "    </tr>\n",
       "    <tr>\n",
       "      <th>1</th>\n",
       "      <td>6.575</td>\n",
       "      <td>4.98</td>\n",
       "      <td>15.3</td>\n",
       "      <td>504000.0</td>\n",
       "    </tr>\n",
       "    <tr>\n",
       "      <th>2</th>\n",
       "      <td>6.421</td>\n",
       "      <td>9.14</td>\n",
       "      <td>17.8</td>\n",
       "      <td>453600.0</td>\n",
       "    </tr>\n",
       "    <tr>\n",
       "      <th>3</th>\n",
       "      <td>7.185</td>\n",
       "      <td>4.03</td>\n",
       "      <td>17.8</td>\n",
       "      <td>728700.0</td>\n",
       "    </tr>\n",
       "    <tr>\n",
       "      <th>4</th>\n",
       "      <td>6.998</td>\n",
       "      <td>2.94</td>\n",
       "      <td>18.7</td>\n",
       "      <td>701400.0</td>\n",
       "    </tr>\n",
       "    <tr>\n",
       "      <th>5</th>\n",
       "      <td>7.147</td>\n",
       "      <td>5.33</td>\n",
       "      <td>18.7</td>\n",
       "      <td>760200.0</td>\n",
       "    </tr>\n",
       "    <tr>\n",
       "      <th>6</th>\n",
       "      <td>6.43</td>\n",
       "      <td>5.21</td>\n",
       "      <td>18.7</td>\n",
       "      <td>602700.0</td>\n",
       "    </tr>\n",
       "    <tr>\n",
       "      <th>7</th>\n",
       "      <td>6.012</td>\n",
       "      <td>12.43</td>\n",
       "      <td>15.2</td>\n",
       "      <td>480900.0</td>\n",
       "    </tr>\n",
       "    <tr>\n",
       "      <th>8</th>\n",
       "      <td>6.172</td>\n",
       "      <td>19.15</td>\n",
       "      <td>15.2</td>\n",
       "      <td>569100.0</td>\n",
       "    </tr>\n",
       "    <tr>\n",
       "      <th>9</th>\n",
       "      <td>5.631</td>\n",
       "      <td>29.93</td>\n",
       "      <td>15.2</td>\n",
       "      <td>346500.0</td>\n",
       "    </tr>\n",
       "  </tbody>\n",
       "</table>\n",
       "</div>"
      ],
      "text/plain": [
       "      RM  LSTAT  PTRATIO      MEDV\n",
       "0     RM  LSTAT  PTRATIO      MEDV\n",
       "1  6.575   4.98     15.3  504000.0\n",
       "2  6.421   9.14     17.8  453600.0\n",
       "3  7.185   4.03     17.8  728700.0\n",
       "4  6.998   2.94     18.7  701400.0\n",
       "5  7.147   5.33     18.7  760200.0\n",
       "6   6.43   5.21     18.7  602700.0\n",
       "7  6.012  12.43     15.2  480900.0\n",
       "8  6.172  19.15     15.2  569100.0\n",
       "9  5.631  29.93     15.2  346500.0"
      ]
     },
     "execution_count": 5,
     "metadata": {},
     "output_type": "execute_result"
    }
   ],
   "source": [
    "boston = pd.read_csv(\"D:\\Code\\Work\\Python\\Machine_learning\\learn_pytorch\\LinearRegression\\data\\housing.csv\",\n",
    "                    names = names, sep=',')\n",
    "boston.head(10)"
   ]
  },
  {
   "cell_type": "code",
   "execution_count": 6,
   "id": "64d04068-22e2-40a5-a191-9fbddde2ab46",
   "metadata": {},
   "outputs": [
    {
     "name": "stdout",
     "output_type": "stream",
     "text": [
      "<class 'pandas.core.frame.DataFrame'>\n",
      "RangeIndex: 490 entries, 0 to 489\n",
      "Data columns (total 4 columns):\n",
      " #   Column   Non-Null Count  Dtype \n",
      "---  ------   --------------  ----- \n",
      " 0   RM       490 non-null    object\n",
      " 1   LSTAT    490 non-null    object\n",
      " 2   PTRATIO  490 non-null    object\n",
      " 3   MEDV     490 non-null    object\n",
      "dtypes: object(4)\n",
      "memory usage: 15.4+ KB\n"
     ]
    }
   ],
   "source": [
    "boston.info()"
   ]
  },
  {
   "cell_type": "code",
   "execution_count": 7,
   "id": "dbe8fdbe-5c4b-4cf0-9012-e15cb06f14af",
   "metadata": {},
   "outputs": [
    {
     "data": {
      "text/plain": [
       "RM         0\n",
       "LSTAT      0\n",
       "PTRATIO    0\n",
       "MEDV       0\n",
       "dtype: int64"
      ]
     },
     "execution_count": 7,
     "metadata": {},
     "output_type": "execute_result"
    }
   ],
   "source": [
    "boston.isnull().sum()"
   ]
  },
  {
   "cell_type": "code",
   "execution_count": 8,
   "id": "d4541030-8e21-4b90-8526-1c1b0a5aacd0",
   "metadata": {},
   "outputs": [
    {
     "data": {
      "text/html": [
       "<div>\n",
       "<style scoped>\n",
       "    .dataframe tbody tr th:only-of-type {\n",
       "        vertical-align: middle;\n",
       "    }\n",
       "\n",
       "    .dataframe tbody tr th {\n",
       "        vertical-align: top;\n",
       "    }\n",
       "\n",
       "    .dataframe thead th {\n",
       "        text-align: right;\n",
       "    }\n",
       "</style>\n",
       "<table border=\"1\" class=\"dataframe\">\n",
       "  <thead>\n",
       "    <tr style=\"text-align: right;\">\n",
       "      <th></th>\n",
       "      <th>RM</th>\n",
       "      <th>LSTAT</th>\n",
       "      <th>PTRATIO</th>\n",
       "      <th>MEDV</th>\n",
       "    </tr>\n",
       "  </thead>\n",
       "  <tbody>\n",
       "    <tr>\n",
       "      <th>count</th>\n",
       "      <td>490</td>\n",
       "      <td>490</td>\n",
       "      <td>490</td>\n",
       "      <td>490</td>\n",
       "    </tr>\n",
       "    <tr>\n",
       "      <th>unique</th>\n",
       "      <td>431</td>\n",
       "      <td>443</td>\n",
       "      <td>45</td>\n",
       "      <td>229</td>\n",
       "    </tr>\n",
       "    <tr>\n",
       "      <th>top</th>\n",
       "      <td>5.713</td>\n",
       "      <td>8.05</td>\n",
       "      <td>20.2</td>\n",
       "      <td>525000.0</td>\n",
       "    </tr>\n",
       "    <tr>\n",
       "      <th>freq</th>\n",
       "      <td>3</td>\n",
       "      <td>3</td>\n",
       "      <td>134</td>\n",
       "      <td>8</td>\n",
       "    </tr>\n",
       "  </tbody>\n",
       "</table>\n",
       "</div>"
      ],
      "text/plain": [
       "           RM LSTAT PTRATIO      MEDV\n",
       "count     490   490     490       490\n",
       "unique    431   443      45       229\n",
       "top     5.713  8.05    20.2  525000.0\n",
       "freq        3     3     134         8"
      ]
     },
     "execution_count": 8,
     "metadata": {},
     "output_type": "execute_result"
    }
   ],
   "source": [
    "boston.describe()"
   ]
  },
  {
   "cell_type": "code",
   "execution_count": 9,
   "id": "c455522b-d8a0-4c68-8ad4-8f2f52b86c61",
   "metadata": {},
   "outputs": [],
   "source": [
    "boston['RM'] = pd.to_numeric(boston['RM'], errors='coerce')\n",
    "boston['LSTAT'] = pd.to_numeric(boston['LSTAT'], errors='coerce')\n",
    "boston['PTRATIO'] = pd.to_numeric(boston['PTRATIO'], errors='coerce')\n",
    "boston['MEDV'] = pd.to_numeric(boston['MEDV'], errors='coerce')"
   ]
  },
  {
   "cell_type": "code",
   "execution_count": 10,
   "id": "1d68a7da-384e-4e1b-90bd-27f7fe8efdc8",
   "metadata": {},
   "outputs": [
    {
     "data": {
      "image/png": "[encoded data removed]",
      "text/plain": [
       "<Figure size 400x400 with 2 Axes>"
      ]
     },
     "metadata": {},
     "output_type": "display_data"
    }
   ],
   "source": [
    "corrboston = boston.corr()\n",
    "plt.figure(figsize=(4,4))\n",
    "sns.heatmap(corrboston, annot=True, cmap = 'RdGy')\n",
    "plt.show()"
   ]
  },
  {
   "cell_type": "code",
   "execution_count": 11,
   "id": "9c514f5b-17c7-41a6-880c-f785184d1084",
   "metadata": {},
   "outputs": [],
   "source": [
    "from sklearn import linear_model"
   ]
  },
  {
   "cell_type": "code",
   "execution_count": 12,
   "id": "0e794ad5-4bce-4638-b4cc-4b3f34ac0ed9",
   "metadata": {},
   "outputs": [
    {
     "name": "stdout",
     "output_type": "stream",
     "text": [
      "1      504000.0\n",
      "2      453600.0\n",
      "3      728700.0\n",
      "4      701400.0\n",
      "5      760200.0\n",
      "         ...   \n",
      "485    470400.0\n",
      "486    432600.0\n",
      "487    501900.0\n",
      "488    462000.0\n",
      "489    249900.0\n",
      "Name: MEDV, Length: 489, dtype: float64\n"
     ]
    }
   ],
   "source": [
    "boston = boston.dropna()\n",
    "x = boston[['RM', 'LSTAT', 'PTRATIO']]\n",
    "y = boston['MEDV']\n",
    "print(y)"
   ]
  },
  {
   "cell_type": "code",
   "execution_count": 13,
   "id": "a36b09c8-49b0-425a-87cf-abc489fc51c2",
   "metadata": {},
   "outputs": [
    {
     "name": "stdout",
     "output_type": "stream",
     "text": [
      "[ 86565.23613299 -10849.34038381 -19492.11563515]\n"
     ]
    }
   ],
   "source": [
    "clf = linear_model.LinearRegression()\n",
    "clf.fit(x,y)\n",
    "print(clf.coef_)"
   ]
  },
  {
   "cell_type": "code",
   "execution_count": 14,
   "id": "592ff370-dea6-4453-94d4-42d614b2a8ca",
   "metadata": {},
   "outputs": [],
   "source": [
    "from sklearn.metrics import r2_score"
   ]
  },
  {
   "cell_type": "code",
   "execution_count": 15,
   "id": "1dc6fefc-8beb-413f-bf62-fffb6b8a4de4",
   "metadata": {},
   "outputs": [
    {
     "name": "stdout",
     "output_type": "stream",
     "text": [
      "[632371.73976201 525177.14831303 646753.11807988 624848.29586973\n",
      " 611816.59253625 551051.23907495 504757.13752331 445700.00792541\n",
      " 281912.32584005 453398.19604187 449341.73883373 495383.99589251\n",
      " 458523.77702007 431491.00636354 422517.41530748 419257.64272765\n",
      " 448505.98490247 365495.9091848  351601.10743353 379508.51598293\n",
      " 260245.19857178 372445.22420387 334713.9965226  293648.79898964\n",
      " 342098.17877442 311686.1155506  348654.95473553 342113.34924265\n",
      " 429499.61994968 453891.2563322  255482.06953239 390278.68337331\n",
      " 220557.90113466 300552.98332997 313156.06423872 449785.70738367\n",
      " 423052.34679546 452473.6925339  447760.15700335 582787.26223254\n",
      " 645311.2050317  600091.36781029 537541.80072208 523493.11581406\n",
      " 488308.74407335 447647.43303657 413903.81648221 384576.30131396\n",
      " 199653.05930455 375734.66524694 458261.72874507 515033.99298018\n",
      " 594338.58908164 515755.20073643 353306.62928583 641881.59612951\n",
      " 568196.00425098 668307.20539241 488986.61950862 444510.95472585\n",
      " 385771.91309676 391253.44213158 517318.82219588 513755.11158943\n",
      " 580533.29310209 595470.25047497 491497.11076228 468014.21189332\n",
      " 389291.47631636 461134.12368142 523797.3292081  450039.66591864\n",
      " 506345.57454986 500011.64947851 520427.0325995  498117.80544021\n",
      " 464638.34742435 471049.65825433 456555.52538409 460717.03369201\n",
      " 570045.5322852  539757.25984209 517740.75017984 497483.46439868\n",
      " 503554.89642795 557941.58012196 436027.63527068 493157.6347972\n",
      " 615395.97568401 619458.80460883 528411.16969516 533990.48449568\n",
      " 529830.5255939  530990.1697956  486759.53788758 565952.89091281\n",
      " 475076.34541932 717425.48242532 702814.31647385 639416.68927055\n",
      " 488202.7367933  511863.60521615 447201.02889408 393514.89913195\n",
      " 408154.62404196 335883.74023498 310825.20625245 385597.17552114\n",
      " 435381.11195781 378586.79264635 403309.39259653 539561.00054465\n",
      " 404497.17184397 410444.92957403 496508.11797604 410677.85355868\n",
      " 472505.57834742 477965.81901462 410061.44308492 416950.58386566\n",
      " 395397.90267076 408082.57835097 364651.68739252 274409.27152769\n",
      " 361350.60716395 400665.76029332 233302.63943734 308547.27315909\n",
      " 391961.23011608 291222.87849426 424568.15116249 416830.31572343\n",
      " 433180.56462308 343148.76384926 312785.52742554 366617.50304474\n",
      " 333248.3256675  402631.70285418 277936.19609978 334415.48902056\n",
      " 274565.24926393  63376.66259633 305662.95841293 315629.4349151\n",
      " 235582.46959844 357963.53150548 435477.92824615 234969.62833739\n",
      " 270604.29159637 380717.57208377 505906.97287455 452649.59244579\n",
      " 431301.25472687 451820.145103   495446.602336   498522.53680544\n",
      " 410193.86777855 680154.25878972 584273.76039489 612293.35846948\n",
      " 610291.6504003  509396.86693507 550632.77316228 505963.19717423\n",
      " 555508.34554417 560306.40525877 480945.07722305 507416.32032485\n",
      " 414859.96246819 549219.79493293 494493.35417657 600724.32845413\n",
      " 503331.16721359 570312.39213896 610655.36138964 618049.41088497\n",
      " 658662.78348218 497835.28238522 635585.18209268 575008.12957188\n",
      " 401942.54293477 458471.81009033 633796.07655259 637232.9348002\n",
      " 682677.51580929 665567.55926547 651663.95876264 709411.89692355\n",
      " 645458.8161822  635544.10114961 756399.30644902 691670.05200644\n",
      " 727716.63380443 638417.96059665 653461.82582015 581734.68267985\n",
      " 753950.29505846 767391.10917011 444934.52179045 481505.46546992\n",
      " 357578.71892853 418791.30758683 265004.39813561 381471.74462727\n",
      " 260542.399362   381680.44557484 502997.61325068 200804.09531327\n",
      " 485314.08204248 458915.22186613 565629.89017654 416523.24064993\n",
      " 533555.87594588 572669.44569881 377062.85535243 564049.89381279\n",
      " 566735.33027635 746933.55715148 738327.64757307 627366.56604475\n",
      " 699112.57507878 602683.49176539 467653.44630523 660964.07766788\n",
      " 771198.08735787 747350.19233787 571202.172606   485096.78819472\n",
      " 546812.9580015  661931.21191628 583922.76751017 583785.58823915\n",
      " 565470.21701479 484978.57044465 520547.44920052 588998.75497952\n",
      " 391707.59877964 328084.31292576 472525.49227004 471999.34315377\n",
      " 496753.43147509 553538.57130906 540702.56641565 561522.84613172\n",
      " 607101.16410777 719700.60814908 553253.99607899 504094.62906754\n",
      " 717055.57945953 712333.40823316 679485.79023345 681551.11484502\n",
      " 734271.25779345 824922.14463634 674275.2990884  697976.32772529\n",
      " 529993.99914845 608773.7152201  774425.2915604  417283.74737133\n",
      " 418795.64350829 521580.96604355 535009.15837364 647295.61707635\n",
      " 619112.85557003 633390.25544989 635834.22299453 618164.20718527\n",
      " 555512.26459259 662094.96122948 761178.50026988 678419.96656602\n",
      " 754166.58923446 645642.09899671 586550.42470642 459727.34190295\n",
      " 551914.53778263 556099.75623617 557018.82513635 599011.55795225\n",
      " 621360.43243414 564151.39207972 540888.40764813 510927.91028591\n",
      " 613647.829044   590329.65235298 432949.71188489 622316.28667284\n",
      " 685061.03930967 655915.3264566  569037.50726109 569818.76234701\n",
      " 653312.01920608 608009.58862854 532640.46145848 628928.28865356\n",
      " 567999.23801479 581913.80522991 465609.13538968 350162.72566806\n",
      " 521882.78894101 451037.6167608  513517.44940725 524601.49575363\n",
      " 425896.72655495 369887.86608535 384391.17843309 496869.63945452\n",
      " 447870.65422512 511571.88669501 510823.90721502 472819.60059191\n",
      " 400162.04180905 522336.95671206 535005.31448935 513095.25717885\n",
      " 421232.19795593 485844.52428457 554631.12429581 519283.94899502\n",
      " 445131.57868686 523172.24619559 506845.43872268 494717.25309521\n",
      " 457414.77474731 423451.49578996 417456.69323773 453894.53975034\n",
      " 434144.02360441 437554.61776287 680592.60030381 577829.6079077\n",
      " 574145.71852889 617437.13534694 455372.39843827 422113.2426255\n",
      " 561612.80044913 593471.2235626  568243.27717051 528399.04551225\n",
      " 568708.49020536 483592.16821018 617687.30769483 389519.59467496\n",
      " 440058.2682911  368518.51678989 431337.59886411 427558.43486748\n",
      " 413349.24126875 491051.67987576 408890.81170786 375331.67832085\n",
      " 365227.38274756 252735.16302363 299456.16224149 211503.46055236\n",
      "  69181.14401028 -32018.84656803 508960.09776894 345157.24521535\n",
      " 379407.88522224 316988.99352286 324120.49158305 438193.07805611\n",
      " 359589.03588654 244904.37486116 233103.96431458  67525.31615968\n",
      " 144260.23453548 117605.79312339 107479.44247376 111955.21046361\n",
      " 262101.53644121 330638.6407476  341996.27892727 179055.12879635\n",
      " 393237.67443601 353946.49052643 396146.59633256 366022.27488422\n",
      " 303095.21229763 161882.57097933 203148.69123435 249552.88734048\n",
      " 350348.35687936 355737.32968731 270269.64937427 203461.04202971\n",
      " 264356.05561067 126707.00324704 375579.00606498 221538.00591328\n",
      " 400268.70587831 410392.89382409 367765.4346797   49455.74451883\n",
      " 250112.69804549  11703.3553786  263511.05181685 329004.60364233\n",
      " 191839.24531154 313679.37361689 365730.83173052 413736.29697057\n",
      " 371299.82487573 357668.41495421 297350.15926755 317284.51878073\n",
      " 267496.88096583 356778.79337309 401068.83281068 324344.36299885\n",
      " 312757.75077318 379857.41528863 399600.40702632 447387.73802401\n",
      " 402881.21941333 394536.15297801 343100.46028117 385191.05741429\n",
      " 267307.94022524 166393.77727897 260593.3364256  285481.28862253\n",
      " 364481.43906279 380082.30723047 378589.15077444 270370.74527853\n",
      " 320681.33846606 377624.05757813 384479.79584429 360431.10501089\n",
      " 367712.01814085 416739.94305472 405456.50214691 379456.84418785\n",
      " 480082.49339302 401143.41080849 389863.2852961  332791.55112134\n",
      " 351787.0762705  391086.41913154 388641.55796951 423651.13891181\n",
      " 414720.76964793 416773.98536939 473883.33107154 415778.93196256\n",
      " 366951.67595345 350893.75856803 310066.83621034 338010.70885244\n",
      " 356134.59064954 378835.71706669 421307.50581955 423147.55776334\n",
      " 499445.70001983 294706.16261824 293669.54248851 380346.97340356\n",
      " 210608.60417552 361516.03904927 418703.66412744 445541.94890679\n",
      " 522065.11001376 556906.9169313  407462.42448577 385217.96130355\n",
      " 453337.4098975  388460.39545443 408666.43265747 299860.58278805\n",
      " 232278.37167445 142541.19728423 345545.09929857 396753.98591013\n",
      " 404943.00092335 406758.82983007 341092.27444096 278447.34336505\n",
      " 389799.05506477 422078.45484758 359472.53655104 407473.40679548\n",
      " 471941.44849202 437397.20262756 548818.77567769 523950.45677909\n",
      " 442625.53983616]\n"
     ]
    }
   ],
   "source": [
    "y_pred =clf.predict(x)\n",
    "print(y_pred)"
   ]
  },
  {
   "cell_type": "code",
   "execution_count": 16,
   "id": "bb9fc8a6-1489-41e3-a794-048910a6b76f",
   "metadata": {},
   "outputs": [
    {
     "data": {
      "text/plain": [
       "0.7176275212982739"
      ]
     },
     "execution_count": 16,
     "metadata": {},
     "output_type": "execute_result"
    }
   ],
   "source": [
    "score = r2_score(y, y_pred)\n",
    "score"
   ]
  }
 ],
 "metadata": {
  "kernelspec": {
   "display_name": "Pytorch",
   "language": "python",
   "name": "pytorch"
  },
  "language_info": {
   "codemirror_mode": {
    "name": "ipython",
    "version": 3
   },
   "file_extension": ".py",
   "mimetype": "text/x-python",
   "name": "python",
   "nbconvert_exporter": "python",
   "pygments_lexer": "ipython3",
   "version": "3.10.16"
  }
 },
 "nbformat": 4,
 "nbformat_minor": 5
}
